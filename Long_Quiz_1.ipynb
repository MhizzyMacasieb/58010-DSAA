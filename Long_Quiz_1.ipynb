{
  "nbformat": 4,
  "nbformat_minor": 0,
  "metadata": {
    "colab": {
      "provenance": [],
      "authorship_tag": "ABX9TyNpQdQqirW39tEhUPK5qFpB",
      "include_colab_link": true
    },
    "kernelspec": {
      "name": "python3",
      "display_name": "Python 3"
    },
    "language_info": {
      "name": "python"
    }
  },
  "cells": [
    {
      "cell_type": "markdown",
      "metadata": {
        "id": "view-in-github",
        "colab_type": "text"
      },
      "source": [
        "<a href=\"https://colab.research.google.com/github/MhizzyMacasieb/58010-DSAA/blob/main/Long_Quiz_1.ipynb\" target=\"_parent\"><img src=\"https://colab.research.google.com/assets/colab-badge.svg\" alt=\"Open In Colab\"/></a>"
      ]
    },
    {
      "cell_type": "markdown",
      "source": [
        "Question #1. Create a python or C++ program that appends each character of your full name and displays each character in reverse order."
      ],
      "metadata": {
        "id": "n_D7JRcRKAxj"
      }
    },
    {
      "cell_type": "code",
      "source": [
        "arr = [\"Macasieb\",\"Mary Mhizzy\"]\n",
        "print(\"Full Name:\",arr)\n",
        "\n",
        "res=arr[::-1]\n",
        "print(\"Reverse Full Name:\",res)"
      ],
      "metadata": {
        "id": "mO0lwC74O1kN",
        "colab": {
          "base_uri": "https://localhost:8080/"
        },
        "outputId": "b3cb1c17-f771-42d8-d1d7-c4a266c3f523"
      },
      "execution_count": 13,
      "outputs": [
        {
          "output_type": "stream",
          "name": "stdout",
          "text": [
            "Full Name: ['Macasieb', 'Mary Mhizzy']\n",
            "Reverse Full Name: ['Mary Mhizzy', 'Macasieb']\n"
          ]
        }
      ]
    },
    {
      "cell_type": "code",
      "source": [
        "arr = [\"Mary\"]\n",
        "arr1 = [\"Mhizzy\"]\n",
        "arr2 = [\"Macasieb\"]\n",
        "\n",
        "print(\"Full Name: \",(arr,arr1,arr2))\n",
        "\n",
        "res=arr[::-1]\n",
        "print(\"Reverse Full Name: \",(arr2,arr,arr1))"
      ],
      "metadata": {
        "colab": {
          "base_uri": "https://localhost:8080/"
        },
        "id": "EvoPPs57YCj3",
        "outputId": "1f4b1839-2d4f-4f91-cf1a-c2e8b8ab05a7"
      },
      "execution_count": 36,
      "outputs": [
        {
          "output_type": "stream",
          "name": "stdout",
          "text": [
            "Full Name:  (['Mary'], ['Mhizzy'], ['Macasieb'])\n",
            "Reverse Full Name:  (['Macasieb'], ['Mary'], ['Mhizzy'])\n"
          ]
        }
      ]
    },
    {
      "cell_type": "code",
      "source": [
        "full_name = input(\"Enter Your Full Name: \")\n",
        "\n",
        "characters = []\n",
        "\n",
        "for char in full_name:\n",
        "    characters.append(char)\n",
        "\n",
        "print(\"Reverse Full Name:\")\n",
        "for char in reversed(characters):\n",
        "    print(char)"
      ],
      "metadata": {
        "colab": {
          "base_uri": "https://localhost:8080/"
        },
        "id": "ZYB5Y58VZM53",
        "outputId": "ef5d19fe-2ca7-45e5-89ec-8bd77c04ad1f"
      },
      "execution_count": 35,
      "outputs": [
        {
          "output_type": "stream",
          "name": "stdout",
          "text": [
            "Enter Your Full Name: Mary Mhizzy Macasieb\n",
            "Reverse Full Name:\n",
            "b\n",
            "e\n",
            "i\n",
            "s\n",
            "a\n",
            "c\n",
            "a\n",
            "M\n",
            " \n",
            "y\n",
            "z\n",
            "z\n",
            "i\n",
            "h\n",
            "M\n",
            " \n",
            "y\n",
            "r\n",
            "a\n",
            "M\n"
          ]
        }
      ]
    },
    {
      "cell_type": "markdown",
      "source": [
        "Question #2. Using the set of positive whole numbers from 1 to 10, creat a python or C++ program that displays if it is prime or composite."
      ],
      "metadata": {
        "id": "L0qNjLJwKRmy"
      }
    },
    {
      "cell_type": "code",
      "source": [
        "start = 1;\n",
        "end = 10;\n",
        "count = 0;\n",
        "\n",
        "print(\"Composite Numbers Between %d and %d: \" % (start, end));\n",
        "\n",
        "for start in range(start, end+1):\n",
        "    for i in range(1, start+1):\n",
        "        if(start % i == 0):\n",
        "            count += 1;\n",
        "    if(count > 2):\n",
        "       print(start, end=\" \")\n",
        "    count = 0"
      ],
      "metadata": {
        "colab": {
          "base_uri": "https://localhost:8080/"
        },
        "id": "kZKngxYvWsW_",
        "outputId": "fc4d5fec-ea95-43d6-9d8c-0320ac2f20c5"
      },
      "execution_count": 24,
      "outputs": [
        {
          "output_type": "stream",
          "name": "stdout",
          "text": [
            "Composite Numbers Between 1 and 10: \n",
            "4 6 8 9 10 "
          ]
        }
      ]
    }
  ]
}