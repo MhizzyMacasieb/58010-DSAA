{
  "nbformat": 4,
  "nbformat_minor": 0,
  "metadata": {
    "colab": {
      "provenance": [],
      "authorship_tag": "ABX9TyOTjVE5Vqc2kYpXvTHJMi11",
      "include_colab_link": true
    },
    "kernelspec": {
      "name": "python3",
      "display_name": "Python 3"
    },
    "language_info": {
      "name": "python"
    }
  },
  "cells": [
    {
      "cell_type": "markdown",
      "metadata": {
        "id": "view-in-github",
        "colab_type": "text"
      },
      "source": [
        "<a href=\"https://colab.research.google.com/github/MhizzyMacasieb/58010-DSAA/blob/main/Activity_1.ipynb\" target=\"_parent\"><img src=\"https://colab.research.google.com/assets/colab-badge.svg\" alt=\"Open In Colab\"/></a>"
      ]
    },
    {
      "cell_type": "markdown",
      "source": [
        "**1. Write a python program to create an array of 10 integers and display the array items. Access individual elements through indexes and compute for the sum.**"
      ],
      "metadata": {
        "id": "0Ia8_KIp_DB1"
      }
    },
    {
      "cell_type": "code",
      "source": [
        "from array import *\n",
        "array_num = array('i', [1,2,3,4,5,6,7,8,9,0])\n",
        "for i in array_num:\n",
        "    print(i)\n",
        "print(\"Access items individually\")\n",
        "print(array_num[0])\n",
        "print(array_num[1])\n",
        "print(array_num[2])\n",
        "print(array_num[3])\n",
        "print(array_num[4])\n",
        "print(array_num[5])\n",
        "print(array_num[6])\n",
        "print(array_num[7])\n",
        "print(array_num[8])\n",
        "print(array_num[9])\n",
        "\n",
        "def _sum(array):\n",
        "  sum = 0\n",
        "  for i in array_num:\n",
        "    sum = sum + i\n",
        "  return(sum)\n",
        "\n",
        "arr = []\n",
        "arr = [1,2,3,4,5,6,7,8,9,0]\n",
        "n = len(arr)\n",
        "ans = _sum(array)\n",
        "print('The sum of array is: ', ans)"
      ],
      "metadata": {
        "colab": {
          "base_uri": "https://localhost:8080/"
        },
        "id": "HlwczSVk_YcM",
        "outputId": "9be8474a-d91f-46f2-ab79-882f725fd2d2"
      },
      "execution_count": 3,
      "outputs": [
        {
          "output_type": "stream",
          "name": "stdout",
          "text": [
            "1\n",
            "2\n",
            "3\n",
            "4\n",
            "5\n",
            "6\n",
            "7\n",
            "8\n",
            "9\n",
            "0\n",
            "Access items individually\n",
            "1\n",
            "2\n",
            "3\n",
            "4\n",
            "5\n",
            "6\n",
            "7\n",
            "8\n",
            "9\n",
            "0\n",
            "The sum of array is:  45\n"
          ]
        }
      ]
    },
    {
      "cell_type": "markdown",
      "source": [
        "**2. Write a Python program to appen a new item to the end of the array. Original array: numbers =[1,2,3,4,5,6,7,8,9,10]**"
      ],
      "metadata": {
        "id": "LlpoyB2gBgFo"
      }
    },
    {
      "cell_type": "code",
      "source": [
        "import array as arr\n",
        "\n",
        "a = arr.array('i', [1,2,3,4,5,6,7,8,9,10])\n",
        "print (\"Array before adding: \", end = \" \")\n",
        "for i in range (0,10):\n",
        "  print (a[i], end = \" \")\n",
        "print()\n",
        "\n",
        "a.insert(10,11)\n",
        "print(\"Array after adding: \", end = \" \")\n",
        "for i in (a):\n",
        "  print(i, end = \" \")\n",
        "print()"
      ],
      "metadata": {
        "colab": {
          "base_uri": "https://localhost:8080/"
        },
        "id": "hzbGtG2WBF7Z",
        "outputId": "62743461-2895-4264-fe3b-a7965e66ff67"
      },
      "execution_count": 4,
      "outputs": [
        {
          "output_type": "stream",
          "name": "stdout",
          "text": [
            "Array before adding:  1 2 3 4 5 6 7 8 9 10 \n",
            "Array after adding:  1 2 3 4 5 6 7 8 9 10 11 \n"
          ]
        }
      ]
    },
    {
      "cell_type": "markdown",
      "source": [
        "**3. Write a Pyhton program to insert a new item before the second element in an existing array. Original array: numbers = [1,2,3,4,5,6,7,8,9,10]**"
      ],
      "metadata": {
        "id": "6d2yI4_PCvGg"
      }
    },
    {
      "cell_type": "code",
      "source": [
        "import array as arr\n",
        "\n",
        "a = arr.array('i', [1,2,3,4,5,6,7,8,9,10])\n",
        "print (\"Array before adding: \",end =\" \")\n",
        "for i in range (0,10):\n",
        "  print (a[i], end = \" \")\n",
        "print()\n",
        "\n",
        "a.insert(1,11)\n",
        "print (\"Array after adding: \",end =\" \")\n",
        "for i in (a):\n",
        "  print (i, end = \" \")\n",
        "print()"
      ],
      "metadata": {
        "colab": {
          "base_uri": "https://localhost:8080/"
        },
        "id": "AwAVK0DMDBDU",
        "outputId": "75b40229-fc0a-446c-8bc5-67536c369dfa"
      },
      "execution_count": 6,
      "outputs": [
        {
          "output_type": "stream",
          "name": "stdout",
          "text": [
            "Array before adding:  1 2 3 4 5 6 7 8 9 10 \n",
            "Array after adding:  1 11 2 3 4 5 6 7 8 9 10 \n"
          ]
        }
      ]
    },
    {
      "cell_type": "markdown",
      "source": [
        "**4. Write a Python program to reverse the order of the items in the array. Original array: numbers = [5,4,3,2,1]**"
      ],
      "metadata": {
        "id": "C3sEgIC1EUzh"
      }
    },
    {
      "cell_type": "code",
      "source": [
        "arr = [5,4,3,2,1]\n",
        "print(\"Before reversal Array: \",arr)\n",
        "\n",
        "arr.reverse()\n",
        "print(\"After reversing Array: \",arr)"
      ],
      "metadata": {
        "colab": {
          "base_uri": "https://localhost:8080/"
        },
        "id": "nTJdBvnQE2Mw",
        "outputId": "8981ae99-1d18-4cad-92e9-a368e086b902"
      },
      "execution_count": 8,
      "outputs": [
        {
          "output_type": "stream",
          "name": "stdout",
          "text": [
            "Before reversal Array:  [5, 4, 3, 2, 1]\n",
            "After reversing Array:  [1, 2, 3, 4, 5]\n"
          ]
        }
      ]
    },
    {
      "cell_type": "markdown",
      "source": [
        "**5. Write a Pyhton program to get the length of the array. Original array numbers = [5,4,3,2,1]**"
      ],
      "metadata": {
        "id": "Lt9ygXeSEnOh"
      }
    },
    {
      "cell_type": "code",
      "source": [
        "from operator import length_hint\n",
        "inp_list = [5,4,3,2,1]\n",
        "print(\"Length of Array: \")\n",
        "size = length_hint(inp_list)\n",
        "print(size)"
      ],
      "metadata": {
        "colab": {
          "base_uri": "https://localhost:8080/"
        },
        "id": "X-seLLYjE1cR",
        "outputId": "1bcfaaed-d677-4c0b-e441-22992692585c"
      },
      "execution_count": 9,
      "outputs": [
        {
          "output_type": "stream",
          "name": "stdout",
          "text": [
            "Length of Array: \n",
            "5\n"
          ]
        }
      ]
    }
  ]
}