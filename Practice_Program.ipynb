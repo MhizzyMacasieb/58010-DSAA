{
  "nbformat": 4,
  "nbformat_minor": 0,
  "metadata": {
    "colab": {
      "provenance": [],
      "authorship_tag": "ABX9TyOmY+4aSuJ43EUnSahAdrtw",
      "include_colab_link": true
    },
    "kernelspec": {
      "name": "python3",
      "display_name": "Python 3"
    },
    "language_info": {
      "name": "python"
    }
  },
  "cells": [
    {
      "cell_type": "markdown",
      "metadata": {
        "id": "view-in-github",
        "colab_type": "text"
      },
      "source": [
        "<a href=\"https://colab.research.google.com/github/MhizzyMacasieb/58010-DSAA/blob/main/Practice_Program.ipynb\" target=\"_parent\"><img src=\"https://colab.research.google.com/assets/colab-badge.svg\" alt=\"Open In Colab\"/></a>"
      ]
    },
    {
      "cell_type": "markdown",
      "source": [
        "**Design an algorithm  for adding the test scores as given below if the number is odd: 26, 49, 98, 87, 62, 75**\n",
        "\n",
        "\n"
      ],
      "metadata": {
        "id": "P6kHPSMhyLwD"
      }
    },
    {
      "cell_type": "code",
      "source": [
        "list1 = [26,49,98,87,62,75]\n",
        "\n",
        "only_odd = [num for num in list1 if num % 2 == 1]\n",
        "res = sum(only_odd)\n",
        "\n",
        "print(\"Odd Numbers are: \",only_odd)\n",
        "print(\"The Sum is: \", res)"
      ],
      "metadata": {
        "colab": {
          "base_uri": "https://localhost:8080/"
        },
        "id": "kl_RKRggzMXB",
        "outputId": "2fa72635-29b2-43fa-c104-bd283e852a75"
      },
      "execution_count": 3,
      "outputs": [
        {
          "output_type": "stream",
          "name": "stdout",
          "text": [
            "Odd Numbers are:  [49, 87, 75]\n",
            "The Sum is:  211\n"
          ]
        }
      ]
    }
  ]
}