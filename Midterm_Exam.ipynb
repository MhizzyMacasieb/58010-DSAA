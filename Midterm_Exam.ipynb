{
  "nbformat": 4,
  "nbformat_minor": 0,
  "metadata": {
    "colab": {
      "provenance": [],
      "authorship_tag": "ABX9TyNAF6wuVCg3JNyYuO/qAyyM",
      "include_colab_link": true
    },
    "kernelspec": {
      "name": "python3",
      "display_name": "Python 3"
    },
    "language_info": {
      "name": "python"
    }
  },
  "cells": [
    {
      "cell_type": "markdown",
      "metadata": {
        "id": "view-in-github",
        "colab_type": "text"
      },
      "source": [
        "<a href=\"https://colab.research.google.com/github/MhizzyMacasieb/58010-DSAA/blob/main/Midterm_Exam.ipynb\" target=\"_parent\"><img src=\"https://colab.research.google.com/assets/colab-badge.svg\" alt=\"Open In Colab\"/></a>"
      ]
    },
    {
      "cell_type": "code",
      "source": [
        "class graph:\n",
        "   def __init__(self,gdict=None):\n",
        "      if gdict is None:\n",
        "         gdict = []\n",
        "      self.gdict = gdict\n",
        "\n",
        "   def getVertices(self):\n",
        "      return list(self.gdict.keys())\n",
        "\n",
        "graph_elements = {\n",
        "    \"A\" : [\"B\"],\n",
        "    \"B\" : [\"E\",\"C\", \"F\"],\n",
        "    \"C\" : [\"M\",\"D\", \"I\"],\n",
        "    \"D\" : [\"E\",\"F\", \"H\"],\n",
        "    \"E\" : [\"N\",\"C\"],\n",
        "    \"F\" : [\"C\",\"I\", \"G\"],\n",
        "    \"G\" : [\"I\",\"J\"],\n",
        "    \"I\" : [\"C\",\"K\",\"J\"],\n",
        "    \"J\" : [\"K\"],\n",
        "    \"K\" : [\"D\"],\n",
        "    \"L\" : [\"D\"],\n",
        "    \"M\" : [\"C\",\"P\", \"L\"],\n",
        "    \"N\" : [\"O\",\"M\"],\n",
        "    \"O\" : [\"M\",\"P\"],\n",
        "    \"P\" : [\"L\"],\n",
        "}\n",
        "g = graph(graph_elements)\n",
        "print(g.getVertices())"
      ],
      "metadata": {
        "colab": {
          "base_uri": "https://localhost:8080/"
        },
        "id": "n31piRpzu3TC",
        "outputId": "2d474abb-0e82-422f-ba2f-26cdf65d0401"
      },
      "execution_count": 1,
      "outputs": [
        {
          "output_type": "stream",
          "name": "stdout",
          "text": [
            "['A', 'B', 'C', 'D', 'E', 'F', 'G', 'I', 'J', 'K', 'L', 'M', 'N', 'O', 'P']\n"
          ]
        }
      ]
    },
    {
      "cell_type": "code",
      "source": [
        "class graph:\n",
        "  def __init__(self,gdict=None):\n",
        "    if gdict is None:\n",
        "      gdict = {}\n",
        "    self.gdict = gdict\n",
        "\n",
        "  def edges(self):\n",
        "    return self.findedges()\n",
        "\n",
        "  def findedges(self):\n",
        "    edgename = []\n",
        "    for vrtx in self.gdict:\n",
        "      for nxtvrtx in self.gdict[vrtx]:\n",
        "        if {nxtvrtx, vrtx} not in edgename:\n",
        "           edgename.append({vrtx, nxtvrtx})\n",
        "    return edgename\n",
        "\n",
        "graph_elements = {\n",
        "    \"A\" : [\"B\"],\n",
        "    \"B\" : [\"E\",\"C\", \"F\"],\n",
        "    \"C\" : [\"M\",\"D\", \"I\"],\n",
        "    \"D\" : [\"E\",\"F\", \"H\"],\n",
        "    \"E\" : [\"N\",\"C\"],\n",
        "    \"F\" : [\"C\",\"I\", \"G\"],\n",
        "    \"G\" : [\"I\",\"J\"],\n",
        "    \"I\" : [\"C\",\"K\",\"J\"],\n",
        "    \"J\" : [\"K\"],\n",
        "    \"K\" : [\"D\"],\n",
        "    \"L\" : [\"D\"],\n",
        "    \"M\" : [\"C\",\"P\", \"L\"],\n",
        "    \"N\" : [\"O\",\"M\"],\n",
        "    \"O\" : [\"M\",\"P\"],\n",
        "    \"P\" : [\"L\"],\n",
        "}\n",
        "g = graph(graph_elements)\n",
        "print(g.edges())"
      ],
      "metadata": {
        "colab": {
          "base_uri": "https://localhost:8080/"
        },
        "id": "i6HRz3dgwXmy",
        "outputId": "fc6738b6-4f19-46b7-88f7-cc3ee4834c7c"
      },
      "execution_count": 2,
      "outputs": [
        {
          "output_type": "stream",
          "name": "stdout",
          "text": [
            "[{'A', 'B'}, {'B', 'E'}, {'B', 'C'}, {'B', 'F'}, {'C', 'M'}, {'D', 'C'}, {'C', 'I'}, {'D', 'E'}, {'D', 'F'}, {'D', 'H'}, {'N', 'E'}, {'C', 'E'}, {'C', 'F'}, {'I', 'F'}, {'G', 'F'}, {'G', 'I'}, {'G', 'J'}, {'K', 'I'}, {'J', 'I'}, {'J', 'K'}, {'D', 'K'}, {'D', 'L'}, {'M', 'P'}, {'L', 'M'}, {'N', 'O'}, {'N', 'M'}, {'O', 'M'}, {'O', 'P'}, {'L', 'P'}]\n"
          ]
        }
      ]
    }
  ]
}