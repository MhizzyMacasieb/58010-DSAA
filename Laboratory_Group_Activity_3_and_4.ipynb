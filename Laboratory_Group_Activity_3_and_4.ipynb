{
  "nbformat": 4,
  "nbformat_minor": 0,
  "metadata": {
    "colab": {
      "provenance": [],
      "authorship_tag": "ABX9TyNsL2mkKaUyeBBB0f5rQljv",
      "include_colab_link": true
    },
    "kernelspec": {
      "name": "python3",
      "display_name": "Python 3"
    },
    "language_info": {
      "name": "python"
    }
  },
  "cells": [
    {
      "cell_type": "markdown",
      "metadata": {
        "id": "view-in-github",
        "colab_type": "text"
      },
      "source": [
        "<a href=\"https://colab.research.google.com/github/MhizzyMacasieb/58010-DSAA/blob/main/Laboratory_Group_Activity_3_and_4.ipynb\" target=\"_parent\"><img src=\"https://colab.research.google.com/assets/colab-badge.svg\" alt=\"Open In Colab\"/></a>"
      ]
    },
    {
      "cell_type": "markdown",
      "source": [
        "*   **Garzota, Prince Ferdinand S.**\n",
        "*   **Bargo, Julian Carlos T.**\n",
        "*   **Covar, John Marius Lawrence D.**\n",
        "*   **Llanza, Lorenzo**\n",
        "*   **Macasieb, Mary Mhizzy D.**\n",
        "\n",
        "\n"
      ],
      "metadata": {
        "id": "cI3-ZrCiiiq7"
      }
    },
    {
      "cell_type": "code",
      "source": [
        "def sum_of_even_scores(scores):\n",
        "    even_scores = [score for score in scores if score % 2 == 0]\n",
        "    total_sum = sum(even_scores)\n",
        "    return total_sum\n",
        "\n",
        "test_scores = [26, 49, 98, 87, 62, 75]\n",
        "\n",
        "sum_of_even_scores = sum_of_even_scores(test_scores)\n",
        "\n",
        "print(f\"Test Scores: {test_scores}\")\n",
        "print(f\"Sum of Even Scores: {sum_of_even_scores}\")"
      ],
      "metadata": {
        "colab": {
          "base_uri": "https://localhost:8080/"
        },
        "id": "0Mc6pqV6h6WD",
        "outputId": "9e403eba-9198-44d3-ef46-4d084d8472fe"
      },
      "execution_count": 7,
      "outputs": [
        {
          "output_type": "stream",
          "name": "stdout",
          "text": [
            "Test Scores: [26, 49, 98, 87, 62, 75]\n",
            "Sum of Even Scores: 186\n"
          ]
        }
      ]
    },
    {
      "cell_type": "markdown",
      "source": [
        "*   **Garzota, Prince Ferdinand S.**\n",
        "*   **Bargo, Julian Carlos T.**\n",
        "*   **Covar, John Marius Lawrence D.**\n",
        "*   **Llanza, Lorenzo**\n",
        "*   **Macasieb, Mary Mhizzy D.**\n",
        "\n"
      ],
      "metadata": {
        "id": "lWD3Mbbuwuas"
      }
    },
    {
      "cell_type": "code",
      "source": [
        "def find_repeated_integer(A):\n",
        "\n",
        "    A.sort()\n",
        "\n",
        "\n",
        "    for i in range(len(A) - 1):\n",
        "        if abs(A[i] - A[i+1]) <= 1:\n",
        "            return A[i]\n",
        "\n",
        "A = [2, 9, 6, 2, 7, 4, 8]\n",
        "print(\"The repeated integer in A is:\", find_repeated_integer(A))"
      ],
      "metadata": {
        "colab": {
          "base_uri": "https://localhost:8080/"
        },
        "id": "m2K7TokgjO62",
        "outputId": "43c36c12-608e-4150-df76-9f940df2e5fc"
      },
      "execution_count": 11,
      "outputs": [
        {
          "output_type": "stream",
          "name": "stdout",
          "text": [
            "The repeated integer in A is: 2\n"
          ]
        }
      ]
    },
    {
      "cell_type": "code",
      "source": [
        "def encrypt_caesar_cipher(message, shift):\n",
        "    encrypted_message = \"\"\n",
        "\n",
        "    for char in message:\n",
        "        if char.isalpha():\n",
        "            shifted_alphabet_index = (ord(char.lower()) - ord('a') + shift) % 26\n",
        "\n",
        "            if char.isupper():\n",
        "                encrypted_message += chr(shifted_alphabet_index + ord('A'))\n",
        "            else:\n",
        "                encrypted_message += chr(shifted_alphabet_index + ord('a'))\n",
        "        else:\n",
        "            encrypted_message += char\n",
        "\n",
        "    return encrypted_message\n",
        "\n",
        "message = input(\"Enter the message to encrypt: \")\n",
        "shift = int(input(\"Enter the shift number: \"))\n",
        "\n",
        "encrypted_message = encrypt_caesar_cipher(message, shift)\n",
        "print(\"Encrypted message: \", encrypted_message)"
      ],
      "metadata": {
        "colab": {
          "base_uri": "https://localhost:8080/"
        },
        "id": "Xxkm0MP4uU7l",
        "outputId": "90bc9bfe-4f26-47d7-cc35-cb08d3d1c355"
      },
      "execution_count": 24,
      "outputs": [
        {
          "output_type": "stream",
          "name": "stdout",
          "text": [
            "Enter the message to encrypt: Data Structure and Algorithm\n",
            "Enter the shift number: 2\n",
            "Encrypted message:  Fcvc Uvtwevwtg cpf Cniqtkvjo\n"
          ]
        }
      ]
    }
  ]
}