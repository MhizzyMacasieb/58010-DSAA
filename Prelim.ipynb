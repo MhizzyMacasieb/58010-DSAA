{
  "nbformat": 4,
  "nbformat_minor": 0,
  "metadata": {
    "colab": {
      "provenance": [],
      "authorship_tag": "ABX9TyPmd+i6GLM0tv8HK2qIsmmp",
      "include_colab_link": true
    },
    "kernelspec": {
      "name": "python3",
      "display_name": "Python 3"
    },
    "language_info": {
      "name": "python"
    }
  },
  "cells": [
    {
      "cell_type": "markdown",
      "metadata": {
        "id": "view-in-github",
        "colab_type": "text"
      },
      "source": [
        "<a href=\"https://colab.research.google.com/github/MhizzyMacasieb/58010-DSAA/blob/main/Prelim.ipynb\" target=\"_parent\"><img src=\"https://colab.research.google.com/assets/colab-badge.svg\" alt=\"Open In Colab\"/></a>"
      ]
    },
    {
      "cell_type": "markdown",
      "source": [
        "**Adding the Test Score**"
      ],
      "metadata": {
        "id": "qU6x7m7DV4BG"
      }
    },
    {
      "cell_type": "code",
      "source": [
        "Test_Scores = [26, 49, 98, 87, 62, 75]\n",
        "\n",
        "total_scores = sum(Test_Scores)\n",
        "\n",
        "print(\"Total Scores:\", total_score)"
      ],
      "metadata": {
        "id": "mO0lwC74O1kN",
        "colab": {
          "base_uri": "https://localhost:8080/"
        },
        "outputId": "09061280-a41d-4db8-d6d3-da9de8fdf8b9"
      },
      "execution_count": 5,
      "outputs": [
        {
          "output_type": "stream",
          "name": "stdout",
          "text": [
            "Total Scores: 397\n"
          ]
        }
      ]
    },
    {
      "cell_type": "code",
      "source": [
        "test_scores = [26, 49, 98, 87, 62, 75]\n",
        "\n",
        "sorted_scores = sorted(test_scores)\n",
        "\n",
        "print(\"Ascending Order of the Test Scores:\", sorted_scores)\n"
      ],
      "metadata": {
        "colab": {
          "base_uri": "https://localhost:8080/"
        },
        "id": "RerdJDKvWYP7",
        "outputId": "45dd2fd9-f193-4292-fbb5-7372a39e2c89"
      },
      "execution_count": 4,
      "outputs": [
        {
          "output_type": "stream",
          "name": "stdout",
          "text": [
            "Ascending Order of the Test Scores: [26, 49, 62, 75, 87, 98]\n"
          ]
        }
      ]
    }
  ]
}