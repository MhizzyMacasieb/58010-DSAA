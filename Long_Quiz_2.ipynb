{
  "nbformat": 4,
  "nbformat_minor": 0,
  "metadata": {
    "colab": {
      "provenance": [],
      "authorship_tag": "ABX9TyPbZC1o1mcHzRuJbdns7QSx",
      "include_colab_link": true
    },
    "kernelspec": {
      "name": "python3",
      "display_name": "Python 3"
    },
    "language_info": {
      "name": "python"
    }
  },
  "cells": [
    {
      "cell_type": "markdown",
      "metadata": {
        "id": "view-in-github",
        "colab_type": "text"
      },
      "source": [
        "<a href=\"https://colab.research.google.com/github/MhizzyMacasieb/58010-DSAA/blob/main/Long_Quiz_2.ipynb\" target=\"_parent\"><img src=\"https://colab.research.google.com/assets/colab-badge.svg\" alt=\"Open In Colab\"/></a>"
      ]
    },
    {
      "cell_type": "markdown",
      "source": [
        "**NO1.A**\n",
        "VG28 : {E, F, H, I, J , K, M, P}"
      ],
      "metadata": {
        "id": "VX6LAt9BHZz5"
      }
    },
    {
      "cell_type": "markdown",
      "source": [
        "**NO1.B**\n",
        "EG28 : {(H,I), (H,J), (H,K), (I,E), (I,F), (E,J), (E,K), (J,F), (F,K), (F,P), (M, E)}"
      ],
      "metadata": {
        "id": "jKA-Gd1nL3bJ"
      }
    },
    {
      "cell_type": "markdown",
      "source": [
        "**NO2.A (Adjacency List)**\n",
        "\n",
        "![image.png](data:image/png;base64,iVBORw0KGgoAAAANSUhEUgAAARcAAACqCAYAAACH8AvLAAAAAXNSR0IArs4c6QAAAARnQU1BAACxjwv8YQUAAAAJcEhZcwAADsMAAA7DAcdvqGQAAABhaVRYdFNuaXBNZXRhZGF0YQAAAAAAeyJjbGlwUG9pbnRzIjpbeyJ4IjowLCJ5IjowfSx7IngiOjI3OSwieSI6MH0seyJ4IjoyNzksInkiOjE3MH0seyJ4IjowLCJ5IjoxNzB9XX3xXoEGAAAemElEQVR4Xu2dXW8bx9XHD636e5RAgphCdNF+AzHQg0p3lgCjvQ2QC4qygSK2gxTI1QMUeGQlBRLTAmogtwUMiLqTiximvkFvHIgKHID9HLEtPufMzJI7szP7MrtD7pLnV2wqkt7lvJw5c+btz9YUAYZhmIq5pf6fYRimUti5MAwTBHYuDMMEgZ0LwzBBYOfCMEwQ2LkwDBMEdi4MwwRhNZzLq/dw+y8f4Fq9LM8HePDH93CuXtWTG/jHX97Bg1fqZRX8+gH+p9JyDAHVzTv4x6/qZXCaYAv1JMW5jOHbbgs+ezJWrwnbe2EYP/kMWq2WfnW/xRQYUIP4agrH/7sBd9RbM37+Fj6j+w6H6g0d7Tu0Z2/AYW8K95bQ0IaHKj2z6whsqT//2wd43L4F3++oNwSyfmb3mvmOykNdR2aL+WgDeu0b2MJnLxJRD/HyPz+yp0841Bu47m3AXz9Sb80YwhHly2Yj6nny+gy+/Vm9r9BtzSzv5dlC0wkbuVClOhp2Fp1Hr4E2D18ddwG2T+AK/56OvoSO+lyCxvbNDYDF2ITBPADY66k3DKgRb77ck8+1PPvOF7fhBTa0B8/x+YWgBp404LzsP1PpoWvYV+8aYKR2798tePH3DfWGZPzkCC52r9T9Z9A/PYh1BJiuBxew92b+7MF+Mp138ZnHE8x30YioRF3roJPYH0B/OIWnd9Vbiuvn6FDRZL//wjBb4TxG0CZbMSGHuj+GE5Xvq2OAh1sxB4L3bj7uwJkq87PeAA4MB+VvC2sOFqiDq+nJNky7x9j8ZtjeS0P+e3QO+Jcf6Fzc9//0bvq7P7+fjtXLGW9Opt0emgty1sPvV3/PoM/zpOnt++nOH95Nh+plboZ9OlIxxQZSDvGc/lRP/Yfpd3/+bXr/J/UyBWveZ5xN0XXZ0+gq11T86zpex5Rmu329n97/w2/T796qlzMwH+pem60kyyCeb4s9k21Ad4rOSMfXFtaYwHMuHfhyhL3BnYew6Qjvy3B+ibaEw4DEcOjTL+H1s331Isn45QWM8KaL2BDCOtT7qAW7n0zhsmgvfvcpoJHCeD/AEPLXKbz8pQXb2nCoYnZa0PvlBl4WmteooK4xijiAM3j9SI9PBa+mcPrJLdhNDIf24Wkioo0YwwTHMv2dyBYoqjyAAf31K9ULfn7Zhb3d6G6MmrYewgj/N3mr3orwtYU1JtO5jB5vzhpgq7UJDy/VBwWgUP/qeAwHlvGuPzfw3wmGrL8v7h/HkxHA6QXA92qIgI4AMJ/JMf4t+H0bw/H/eoTD5OBwaNKh8qtkuKCYoIF/0nI0phjUUE+7cHJod7LDQ2xkONzsG0MPSQvan+BXYfkWxbuuL9EpYVLPHJ3C9X8xiMO6SHQkOZFzWZti2EhD7dEk7vSjuaoD/Ic0NIqcT5wStrCmZLZMDBllAxTXFWAYWYIRPHxWVUObwuQX9acH3eOn8OWn6gU6gr7VoLA/RoO6xAZditNBZU5VNLIsxDwDzVu8nucxBs1HHZz24czZ41fRkArWNTq6M3JKrsl3D0cXMcAIctCWdkxREXUu3XaUc0zn1iZM7ksbf3pXRjudj5IlU4ktrBGBh0USMXkaTZqlDFeKIXtXHzpts+dyQ0a93W6pVwUQKzMHMBbO2d7Ifbjz+4y00PdiaA/4veaEKEGOZfMxwMmbpzigcOEfFZap686jp3ByHZ+EnkMNuzgdaFOo04sPteLOAz/HzpI60HlZyaFS+2P1Moa3LawpwZ0LGdvBNa32pBmzD/69a2d3D7rxaAIb5ACHEPOxd4RnI1MNvIMhtnX+wAmG54fzlYrhqwE2jK5ebmjc279MZ/9GI+ZYbN87dyxZzk5Ghe2CDbp8XdO8jRxKmkNU4VSxLoouB+/v9DFyPJg/73yAQ/s+dIUz6WCdY0fz+GhmC+MnAxwu7sFeonz8He7agqGggwpWi2i1w7lakY6Y+Scrj1/mSgStalhn8OWKQOL+eFrUio68LKsDhNcKAZWR43l5EKsVKl3WlRe5WrTzzw/q9RyxMjLLU3RFaXGUie07fFaLytZ1PB2qbnQ7k6tFyVUytUqVli+trs3VN8PWrGWO8GpRYVr0HyzUhkKbqj7Ay+4G/GTufaiA87+9g9N2mGeXgnYkfwXw4j+/A+t8bClkmU4+v21s0Fs+18/fwdboFrz5l2XDZGBqaws1puHOBaEduvduYPfFbcuuTX+Wach5IGO/h0PDd8ZGurKEem41hO1MXNTdFupK850LQT35j60KK5/Ok2CEHCQyqIoAEQY56m8Avq91I6K6uYF2xZ2JmybYQj1ZDefCMEzt4AEkwzBBYOfCMEwQ2LkwDBMEdi4MwwSBnQvDMEFYDefCMpfVsKYyl7S3p9JyZATpzuU8Lg8YXdXrslixfXdumcvoCH10Gcf/xaHC2OeJ5y5P2lCXXJSX7SCfXeYyIsq/nm8pOzC/6iFzKdOq59H2HkEO1UPmEtHK1fg3dz+/BddfLVKXd02gfS6ZiLMZyTMZmZQ4byLudZ3zmOE+Z6ORkX6XYtvw6xzPTlDubJE455JVZs4zVRL5jP607zozRbgU1woo3Wl413X+M2zjf/5mP/Ok6vfEPKOkEPWbZUte6ntMGmGHRXf74gi9qzcpzasbu6aqycdtsKirziAJBhvUo8HpTcHhUQe+vN+Bh1s2gekqwN77R2zH/+fYMYpR2RGdfD5MyzHyaRtTauMW/PXzFpz+WDBqC13XOBx6dgoWIXaMWH5oi5PYe+odDTrxTie1ndo1ip1bcIxl+4yHR5UReM5lSTKXBkLW0pQumDGGi5ejmBRijMbJXOJw4gFJLsSEsFycjxzSAsiyZC7T8JK5VHWPBpIpaYpNYRf98enlYn/5YJUJ7FwkpaQPo3EyXZpKWZa+hhqD4yU0TEy5x9mcziY8BJfc45JkLk8xAojyjJcWAaXJXJJWCeblqVNDJjYXRUp1912NcvEyl1lyqr4yl/klTf01Yxg7C3Euc4pLH+I4WRoFXZqyWZbMJfZos3v7MDGHKRRdRJ/fnzh726XIXPbO5mnDK64o55a5pJ/kGMPJ92nhv4wu5HOvoP2DuxdftMxlN0NOtYzMZV5J01QhLqYwC3Euy5e53Ieuy6CIu13oo0lNLA6gMTKXNMwRerBR708q9+q1NXJSKmxWuc/lyFym4SdzSffllzTNLX7O5CK4c6mFzCVN6lllLCWVSxuSY/GSucyBq3eNR2LiOkOH2ZU/BmZt5EMYPHbMNamocPEyl258hyz5JU1VVIh5Ljr0YhygIboRS3xoadpVYEnae3kSsX23uZyYW+bSWHI1n12ptGHopeicy++iDOLpSMpBOn+0baEyl3mXoquSuXTVjecSPOOkRf/BQm8oYZXJWOZSvVUTgirCVS44xjTcuSAsc6neqYa1lLkMZEPrTvOdC8Eyl9WwpjKX5FAvt+sXqTWd1XAuDMPUjppNJjAMsyqwc2EYJgjsXBiGCQI7F4ZhgsDOhWGYIKyGc2GZy2pgmcvaQvuubleqELgAG6elaCdCrSy2pVpcHop0Hoht8OZ327bpiy36v02/e6teC8wt4caWbzNfluc6Vc8CI1TT4mlzlDep5P3u6/fqlcJWX9qWfPNYRPLZ1ucGRtS1Zbt+8nhCxtGHKP+W+ozsyXrkwWpDgVFpjR9xkHVvqe8U5UGtnRj51mxpCTaew7mUcCbe503mJAxPY/VkLjVc6XYZG9WXs6ykw403Lnu+Fy1zadaxdIA2J5DeGFT+epgOrQzk+93jE+dzBZ4yl5R2U44zF1ReaCfdWZlhvul1or5dZ6pU/Tnq22w31dp4PsIOi1jmMgA4HPoR7cQlc+lkDJPLLrQ/Vi8Re76XK3M5PJQyFXENG4lL5lIyfnIkRb+MXbb0/uQ+nU7POOLtKXPZedT3EwQj7uzB3vVI6gidjwDu47MM6Y/r5zdw+ieLEHuqfKc68R4TA9s/PIHuqfquGH42no/Acy4sc7lYmcs0SNOG9F1UPaBxHrkkF5Ylc3l+BAdwZpepcMpcIiIvYBXK6jx6bXFUNnxlLkmU7MrTsbZhb3cMI2zZQ7SxbiKdWAfoc3rbyXNe2fKdekciNZMtmkW+Np6DHM5lAAcz+UG8PHomb5nLVFZY5jKNLEEjTRpUb+RUD1N8Q9Tn1gXsvdFV7uYsXuZSpBur6MwhMJWmtTJ8llM3OAN/mcvijjUSLiO9mfGrIxihM0jm3K2rky7fqTqSmBIgRYQD9bdOFaqDdnI4l75UFYuuLBX1VIpJH6azwjKXKbhlLhHh0KI8R418ni/xu0VCKR8/H8qhW11kLmH7BM4ovQ5H7JS5pGgHhwdu3eACVCJzOYBBkWj1UxoaYbMXEWQH2nF5T4wc0xxdmnzn/rMz6Me0mEc7JB6Gz7c44Eps3ELgYZGEZS4XIHNpQaiwqb8jBbbZ0IGc67APo8cDi1Ndjsxl59FTMbywOTyXzOXwFTbMeLS2P39deM7LW+ZSCp9LFb786oPdNv07GfXMI8gRTN6qP3EI6BryZ8t3xjtXfP7HExhv239OxtvGMwjuXFjmsoipopEezoedouGYc0W5e1f5MyP6XFPMcBHxfKvBLUvmkhqaHEqajsE1ZBFDvVgjIodJURA18nxzLXP8ZC7JseDQ+s5Zyajehnt4WkS+U9ojDoOt4u3+HUkmWCFubPsmiixNl12eNL/bXHZbQZlLrcyt6XIvv5tlllgizZvvhcpcJpdNo3Tmk7k0oHstzzIv1x6aokvwvkvRtDScvC+5XSB1+V3Lm25zui2ktFkvG89HunOpPTn3uXgScg9AKVI2VZXHc5/LAgi66ctzn0t4cjpVT0LaeMOdCxJod+WydujmJdRO2lDPrYZAnckydugWIVBnstwduk2h8l6HeotQkUFVBIgwqJHV2KFKZE9epSMgh1rHSC2OcASVOv3wNt6i/+C4jGEYplIWshTNMMz6wc6FYZggsHNhGCYI7FwYhgkCOxeGYYKwGs6FZS6rgWUumSoRC9IuLNv/vVS3fLBt27ZtV3dsgBLKW9r9adujk/la1iY6M122tBHWzW5mmZnb8Y36tKmyLX4TXaQUF8+j7T3CsYkuI1+aLRSwIaYcBTbRuSo8BTJ2z/Mm4l7X2ZcZ7h2bZFBOSUPz2cI4k+eBqKEV3w1a7myRcC5ZZZZrx6ZZX0a6hCOypdNzc553Xdvsym5rdoefkS8tXfK51nTWdvt/cwk7LKqLzKWBkF64EzsNLFS6kjRb5rIDbe14L504jkk/CJkJ/ZS0ZLkyl25cMpcZ+SJpiZn0Qwf2SG7uepJMo6fMJeMm8JyL1KpYtsyliTyuPtcNESpdNsmFRstcDmGUIjORyrJkLtNIk7msBF+ZS8aJimByYA9V8yLnEgoMF0R4Gxsr06WFs+nhuznnkky3CpETz9XxGxpFKOmHAsMF25yLNrzLCN+1+1O+V5SPc9hZ7txSsbqO1YNxxess79ma1HypuRnncJmHRpWy4NWi4tKHaCTkAOWlKZuly1zqIkJSgGgWRZB4TmtTqMKjcctwvk4yl72zWNp10aNUmUuEBKmj+67aA+swZfzkMzg47cOZU9xo8TKX6EhiecY6ics9Ik6Zyxjp+RrC0RZp7dp+WUBRicwlE7EQ51IXmcsIEnQeYQOWRkbhPBmzXfu08TKXl/r8AjVAIVj+Jk0tbjkyl2m4ZC4j0vNFYu049MU6T1UG9Ja5ZGykW8/50XxS8ucLuLgsPoavhcwl5uPAnH+IT+qJvKEBf2TmbdEylzko0LtKJzqXuZw3wCxntyyZSzdpyvzp+Zo7lixn5ydzyTjBMDSV+NyFc6zqwnt5ErHNuZhjaeeSbNbPlibH+da8if0PRTUv6NkF5pYMspei3cvvifka7TlmmajLNj/hM/fgXde2uTzbey5FtvR82eaw6ErWd7l5JiZJi/6Dhd1QaJfqB3jZ3YCfCi5H54F2bp62wzy7FLQj+SuAF/8p+quLeZBlOvn8dvJX/pYM/Rj71ugWvPmX/VcXS0Fl+mMrzLPXlIY7F4S2rN+7gd0Xt+GvFS5TBjXkCiDHdw+Hhu/+nvw1vjKEem41BOpMAtnQutN850JU3uvQ+RWMrINEBlURIMKgRvYNwPe17r2pbm6gXaEjIId6uV2/SK3prIZzYRimdtRsMoFhmFWBnQvDMEFg58IwTBDYuTAMEwR2LgzDBGE1nAvLXFbDmspcptMEW6gnqc6Fzmxop2rPj6DVCiWCZKC+S7tsQkTUIL6aWkSEFNFzDpMndEX+8LNkfjbgsDeFe0toaFGa4pdNE+b8bx/gcfuWvjdDHJbU703mm87a4Pu2svxoA3rtG9jCZy+OMXzbNfNoe48gh3oD170Nyx6XlHxptvRZ4oS6Xubm6fjl2ULTKRC5YOXtD6A/1CUAUqFKtTTq3JiSC4mj9Ghs39wAWI2NoDSPod/rqtcR0niPYA/66h2TO1/chhfY0B48Lyo7QM9OGnAhDMmFxOFHjNTu/bsFL2y7aNNkKkQjG0H72CyPOXfxmccTzHfRiKhsXefg+jk6VDTZhPJgWr7I4aINnLyR5XF1DPBwK+ZA8N7ZKW68znoDODAclL8trDe5nQuptZF8QG7HQixZ5lIozPX60DdO946fHAktl9eP0o/9Nlvm0gQd7Q9tcWJ5T71jp2kyl+n5kifD+7PT0p1HaA8wgJGoG+wIfhhA97g/O8W9f3gC3csLuDA6Bz9bWG/yORf07geQoYVhZYkyl5RmEg6yHLMnQaVcTrLRMpcm+/DUKQ5l0CiZy7R8jWGCHrK/E9kARZXY4dBfpKNMn2syIuiottAZ2bSFfW1hjcl2LpdoLFg3tkaaF1KFuzoew4FlvJsKffdsLIyXFnanaa3IHqk/LKsrUkKR7dMv4bVSwCs8XDglZbx5vrUIKEvQSCsz30YuhbgmWL5F8a3rEZXTLN2b8PBSfaAoq7VCWjP03IvdK0xfF0aTuNOXw+RW6wD/IQ2NIucTpwp1vvUi27ngGP6MjKWS8fRiZC5p2PPwTqQ0V45GyVwKhza/TzZyHwfTTJlLFwOMIAdt+XyKvseTEXTbkXvGdG5FkqdU1jLaSQqHVWQLa0SuYVHn0VMxnvYN8RcrczmGi5cjrffffBy9Lj7R2niZS/V3MZonc2lH/byKJm8Zdx74OToxcmxzBy6HSu2P1csY3rawpuS0HhpPyxC/6CTl4mUu5dh/3gtSD45NTEQDRRt5k2UuMdR/oMtc5qdZMpdp7O/0Rccys9vzAQ65+tAVzkT+jtHo8dGs0xk/Gdh/ZqaEw11bsPE5ERKBcRlEJT2pyw+msDSZSx2Rj3g6bM/GKyF92HCZS5t0ZPxzcTVe5jJHvrT6NiVPjXKzlQfhZQvrTYv+g4XaUKRgEstcVoks07WTucygtrZQYxruXBCWuVTvVMNaylxmUHdbqCvNdy4Ey1xWw5rKXKbTBFuoJ6vhXBiGqR08gGQYJgjsXBiGCQI7F4ZhgsDOhWGYILBzYRgmCKvhXFjmshrWVOaS9vZUWo4BoL02tytVCFyAjdNStJuzaX+2bTq6ktunQ2BuZReXbWu22Jb92/S7t+q1SbT1O741/c3JtJvx3PE/fyu+Bb4CznqxdInLXt7DrzF9X79XrxTmsQZzO76R78RxB8T63MCIurZs10+mz370wWYr5r3Rv7HlOdOGgmBpW67jE5ZjLkk7kVc8f3q5JO0otI3ncC7+52T8z5vMSRiehvucjUSmv9/DZ6SkQ1SU5XNqaO5nuyh3tkhDNDKLc8l1pso8n2OkSzzblk5ZpskzPBmUqGu9jmWjszkBV2Og+93n3aJyOHE+V+BzngpJ/+40zHyqM1KJMnSdqTIQHYdZv3PbETZuaUd+Np6PsMOimspcmnTadmGCZstcKrmBGXRaPHYq/G4X+jbFNSzPZcpcuuVUXTKX6eSVNIWdW3CMZfus4PCIZDO9BMESkN2guzkdafo7189v4PRPhhC7hfHLi5icZz3kOwPPuUj5g7rJXOpI/Ze5FGKMRstcDmF0GpdwLMCyZC7T5FSdMpfp5JY0xaawi33M6WXReY19eEriVkE6UayDEUBvO+uc1xAGjwFODiMbrod8Zw7nQkpdkfwgXh4F6C1zmUpJmUs05JmkIpxA32qAS5K5TCND5nL+MxkyanPp14iobtuV78XLXGbJqWbJXGoymZ7l7asZU00nSr9UoUcbNFWSR1dHaNBY63q58p05nEt39rMM4sor8myloMxlKiVlLim6iPJ0f+I0iqXIXKaQKnOJUE8d5euqPbB2BuSARFTnrMvFy1xChpxqmsxlPM/TKIrwcTC5hbjSwIZeIFolCc6oM6DhoBa1YeSY7egoarFF3suX7ww8LJLUXuZSzD9g4Vs+a7zM5eVEayzkWDYphH6Tpha3HJnLNDnV/DKXUl3Oi4yo0I2MEKQKXzH1wT5GFJFjTNyHQ8Cs+SWpnGdGoPWQ7wzuXJogc1m5tKG3zCUa6eE80hi+GmC6DZnKAr2r/M2e+f1zx5Ll7JYlc0l1Z5dTzT1kwbI/svbk2fj9wgA5FhxaY6RcLqq3kTU8VVHLffN7ayLfiY0vheUtRYvlSbLy+GUupVUlc+la6l6CzKW2F8Warvwyl3rZy6VP7XO6bN+xUJlLle54OlT9+MlcGmVv1rW6kkvSfkvwlPZqlqLtpO1FcS0vR2j2UKmN5yPDudSdrH0u5Qi5B6AUOZ2qH577XBZA0E1fnvtcwpNzn4snIW284c4FCbS7clk7dPMSaidtqOdWQ6DOZCk7dAsQqDNZ8g7dhlB5r0O9RajIoCoCRBjUyGrsUCWyJ6/SEZBDrWOkFkc4gkqdfngbb9F/cEzGMAxTKQtZimYYZv1g58IwTBDYuTAMEwR2LgzDBIGdC8MwQVgN57KWMpcMU29SnQudFWnFTwuLw3gBNEpszCQRYpdN7oF0X7+a2kWEVHrl/fqhxbk0AV3miegNOOxN4V7t9WQZpr6kOBc6ot2F7vb8tDCpXcF2gROn5CDKaJlsy1OmtBVHXImDYTfwj29uAHobyd8Npu/euoC9mVxE7LAefjY7uYuX0B8xHNedL27Di/YNPHhevc4Fw6wDmcMiUrO6eEnNbgwXkz3o7wKMJjkjl6XJXJJY1Nhx+pc+00V5SKqwv2AJQIZZdTKdC2n/dTBiGf98AZP2XsEj5UuSucS0XlxiSl/Ghj6Gg9NFc0j/YrESgAyz6qQPiy7p//ehe+cCBs8m0PbRY0VKSR/O5kXw0oZYKToUbycwggFcQKQ2dwUngM8S90uti8EPc2cjlOtEXk3CSQAyzKqTHbkg+zsdGFy3hdCMTSYvP8WlD7U5F03ZzC1zKcB7n86EmjCCImX1a6nKJhTPyNkop3UEOHzbtqt0hZIAZJhVJ8O54HCB5ixIbzY+maoaaV4WK3OJfNxOyDvq6Gp1rx8BRmkqrwahJAAZZtXJFbmUYfEyl8ine7C3HRdKVpO4u7Y5oyEcCXV0W/oCSgAyzIrjbjU/F4tOrJzL36Hx1hY151yMSdm72y24tK7mzLVY5b2bcLEbU1anZerZcwfQfkPq6PIjjdy/EcQwjEnD9Vzox9g/wMvuBvzk+NXFMtAPlJ+2wzybYVad5otF0Q7dezew++J2ciNdCa6fv4Ot0S14869iPx/KMIyk+c6FoLNFP7YqdAR0tmgK2//J+j1mhmFcrIZzYRimdvBkAsMwQWDnwjBMENi5MAwTBHYuDMMEgZ0LwzBBWA3nwjKXDFM7Up2LLgVJV0HJhDJoEpXqyitzqW3vj11xyQbt35j5YplLhilLduQSlz0YduDhVgEHQw24jMwl9GdSlOLKK3NJp7jj95GeyzZAt63uJse1T0p18vOrY8B86WJWLHPJMOUoNiwi2crtkZK9zMHSZC4NhDJdH/rq4OLw2UMY9fozCUwhcwkDGBnjIJa5ZBh/ijmXwixJ5tKAnAnMNHNJeBxjop1IYGEM33YP0LXgX78aLpBlLhnGm0LORcpBziOAvHjLXGKTP3DNmeTVWsEh0ODUnmb50ylSjuHquGsRHmeZS4bxJdu5xDRVpJpcGdGngjKX5pxLEZlLhRwCdRNpHuy3YNC+Es8lnZfxZDSfk4nBMpcM40e2c9F0bP0cy8JlLiNE1NKFk8P4d3agTeOo3tlcPEoNlWz6wCxzyTB+BJ5zkY5l4TKXCnPiNmJ/pw9wegBH0Uzt+UAM97oJfQWWuWQYX8K2mvOSMpcZuGUuEfruRNSioKXqYV8MjcRcDv4T63CPZS4ZxpuG67mwzCXD1JXmi0WxzCXD1JLmOxeCZS4ZpnashnNhGKZ28GQCwzBBYOfCMEwQ2LkwDBMEdi4MwwSBnQvDMEFg58IwTBDYuTAMEwR2LgzDBIGdC8MwQWDnwjBMENi5MAwTBHYuDMMEgZ0LwzBBYOfCMEwQ2LkwDBMAgP8HMnrDezacs7kAAAAASUVORK5CYII=)"
      ],
      "metadata": {
        "id": "LbNSrCFpL4Ip"
      }
    },
    {
      "cell_type": "markdown",
      "source": [
        "**NO2.B (Matrix Representation)**\n",
        "\n",
        "\n",
        "![00.png](data:image/png;base64,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)"
      ],
      "metadata": {
        "id": "5szt4swOQziV"
      }
    },
    {
      "cell_type": "markdown",
      "source": [
        "**NO3.**"
      ],
      "metadata": {
        "id": "4JXT07PeYvrC"
      }
    },
    {
      "cell_type": "code",
      "source": [
        "class graph:\n",
        "   def __init__(self,gdict=None):\n",
        "      if gdict is None:\n",
        "         gdict = []\n",
        "      self.gdict = gdict\n",
        "\n",
        "   def getVertices(self):\n",
        "      return list(self.gdict.keys())\n",
        "\n",
        "graph_elements = {\n",
        "    \"E\" : [\"I\",\"J\", \"K\", \"M\"],\n",
        "    \"F\" : [\"I\",\"J\", \"K\", \"P\"],\n",
        "    \"H\" : [\"I\",\"J\", \"K\"],\n",
        "    \"I\" : [\"E\",\"F\", \"H\"],\n",
        "    \"J\" : [\"E\",\"F\", \"H\"],\n",
        "    \"K\" : [\"E\",\"F\", \"H\"],\n",
        "    \"M\" : [\"E\"],\n",
        "    \"P\" : [\"F\"]\n",
        "}\n",
        "g = graph(graph_elements)\n",
        "print(g.getVertices())"
      ],
      "metadata": {
        "colab": {
          "base_uri": "https://localhost:8080/"
        },
        "id": "-ZK_38SaYSg5",
        "outputId": "86b48c09-9496-4a67-d539-9bb69a262115"
      },
      "execution_count": 8,
      "outputs": [
        {
          "output_type": "stream",
          "name": "stdout",
          "text": [
            "['E', 'F', 'H', 'I', 'J', 'K', 'M', 'P']\n"
          ]
        }
      ]
    },
    {
      "cell_type": "code",
      "source": [
        "class graph:\n",
        "  def __init__(self,gdict=None):\n",
        "    if gdict is None:\n",
        "      gdict = {}\n",
        "    self.gdict = gdict\n",
        "\n",
        "  def edges(self):\n",
        "    return self.findedges()\n",
        "\n",
        "  def findedges(self):\n",
        "    edgename = []\n",
        "    for vrtx in self.gdict:\n",
        "      for nxtvrtx in self.gdict[vrtx]:\n",
        "        if {nxtvrtx, vrtx} not in edgename:\n",
        "           edgename.append({vrtx, nxtvrtx})\n",
        "    return edgename\n",
        "\n",
        "graph_elements = {\n",
        "    \"E\" : [\"I\",\"J\", \"K\", \"M\"],\n",
        "    \"F\" : [\"I\",\"J\", \"K\", \"P\"],\n",
        "    \"H\" : [\"I\",\"J\", \"K\"],\n",
        "    \"I\" : [\"E\",\"F\", \"H\"],\n",
        "    \"J\" : [\"E\",\"F\", \"H\"],\n",
        "    \"K\" : [\"E\",\"F\", \"H\"],\n",
        "    \"M\" : [\"E\"],\n",
        "    \"P\" : [\"F\"]\n",
        "}\n",
        "g = graph(graph_elements)\n",
        "print(g.edges())"
      ],
      "metadata": {
        "colab": {
          "base_uri": "https://localhost:8080/"
        },
        "id": "4srarFMxTE8q",
        "outputId": "9135e105-f28f-4cf7-d8cf-d9253a09d4a7"
      },
      "execution_count": 4,
      "outputs": [
        {
          "output_type": "stream",
          "name": "stdout",
          "text": [
            "[{'I', 'E'}, {'J', 'E'}, {'K', 'E'}, {'E', 'M'}, {'I', 'F'}, {'J', 'F'}, {'K', 'F'}, {'P', 'F'}, {'I', 'H'}, {'J', 'H'}, {'K', 'H'}]\n"
          ]
        }
      ]
    }
  ]
}