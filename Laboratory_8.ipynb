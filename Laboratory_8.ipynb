{
  "nbformat": 4,
  "nbformat_minor": 0,
  "metadata": {
    "colab": {
      "provenance": [],
      "authorship_tag": "ABX9TyP+wuukNzzORlGbUjI+NrJ2",
      "include_colab_link": true
    },
    "kernelspec": {
      "name": "python3",
      "display_name": "Python 3"
    },
    "language_info": {
      "name": "python"
    }
  },
  "cells": [
    {
      "cell_type": "markdown",
      "metadata": {
        "id": "view-in-github",
        "colab_type": "text"
      },
      "source": [
        "<a href=\"https://colab.research.google.com/github/MhizzyMacasieb/58010-DSAA/blob/main/Laboratory_8.ipynb\" target=\"_parent\"><img src=\"https://colab.research.google.com/assets/colab-badge.svg\" alt=\"Open In Colab\"/></a>"
      ]
    },
    {
      "cell_type": "code",
      "source": [
        "# Creating a stack\n",
        "def create_stack():\n",
        "    stack = []\n",
        "    return stack\n",
        "\n",
        "\n",
        "# Creating an empty stack\n",
        "def is_empty(stack):\n",
        "    return len(stack) == 0\n",
        "\n",
        "# Adding items into the stack\n",
        "def push(stack, item):\n",
        "    stack.append(item)\n",
        "    print(\"Pushed Element: \" + item)\n",
        "\n",
        "# Removing an element from the stack\n",
        "def pop(stack):\n",
        "    if (is_empty(stack)):\n",
        "        return \"The stack is empty\"\n",
        "    return stack.pop()\n",
        "\n",
        "stack = create_stack()\n",
        "push(stack, str(1))\n",
        "push(stack, str(2))\n",
        "push(stack, str(3))\n",
        "push(stack, str(4))\n",
        "push(stack, str(5))\n",
        "\n",
        "print(\"The elements in the stack are:\"+ str(stack))"
      ],
      "metadata": {
        "id": "axeXPK0SyA5h",
        "colab": {
          "base_uri": "https://localhost:8080/"
        },
        "outputId": "ac62ea6f-9468-40be-9c42-0a00293939e7"
      },
      "execution_count": 1,
      "outputs": [
        {
          "output_type": "stream",
          "name": "stdout",
          "text": [
            "Pushed Element: 1\n",
            "Pushed Element: 2\n",
            "Pushed Element: 3\n",
            "Pushed Element: 4\n",
            "Pushed Element: 5\n",
            "The elements in the stack are:['1', '2', '3', '4', '5']\n"
          ]
        }
      ]
    },
    {
      "cell_type": "code",
      "source": [
        "def create_queue():\n",
        "  queue = []\n",
        "  return queue\n",
        "\n",
        "def is_empty(queue):\n",
        "  return len(queue) == 0\n",
        "\n",
        "def enqueue(queue,item):\n",
        "  queue.append(item)\n",
        "  print(\"Enqueued Element: \" + item)\n",
        "\n",
        "def dequeue(queue):\n",
        "  if (is_empty(queue)):\n",
        "    return \"The queue is empty\"\n",
        "  return queue.pop(0)\n",
        "\n",
        "queue = create_queue()\n",
        "enqueue(queue, str(1))\n",
        "enqueue(queue, str(2))\n",
        "enqueue(queue, str(3))\n",
        "enqueue(queue, str(4))\n",
        "enqueue(queue, str(5))\n",
        "\n",
        "print(\"The Elements in Queue: \"+ str(queue))\n",
        "\n",
        "dequeue(queue)\n",
        "print(\"The Elements in Dequeue: \"+ str(queue))"
      ],
      "metadata": {
        "colab": {
          "base_uri": "https://localhost:8080/"
        },
        "id": "tncyESGA-1nP",
        "outputId": "0e965616-8d45-42b1-d355-6ff5cf162827"
      },
      "execution_count": 7,
      "outputs": [
        {
          "output_type": "stream",
          "name": "stdout",
          "text": [
            "Enqueued Element: 1\n",
            "Enqueued Element: 2\n",
            "Enqueued Element: 3\n",
            "Enqueued Element: 4\n",
            "Enqueued Element: 5\n",
            "The Elements in Queue: ['1', '2', '3', '4', '5']\n",
            "The Elements in Dequeue: ['2', '3', '4', '5']\n"
          ]
        }
      ]
    }
  ]
}