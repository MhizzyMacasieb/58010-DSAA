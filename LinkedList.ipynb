{
  "nbformat": 4,
  "nbformat_minor": 0,
  "metadata": {
    "colab": {
      "provenance": [],
      "authorship_tag": "ABX9TyNrzyL3I6ZL8iU2fn9O9YUD",
      "include_colab_link": true
    },
    "kernelspec": {
      "name": "python3",
      "display_name": "Python 3"
    },
    "language_info": {
      "name": "python"
    }
  },
  "cells": [
    {
      "cell_type": "markdown",
      "metadata": {
        "id": "view-in-github",
        "colab_type": "text"
      },
      "source": [
        "<a href=\"https://colab.research.google.com/github/MhizzyMacasieb/58010-DSAA/blob/main/LinkedList.ipynb\" target=\"_parent\"><img src=\"https://colab.research.google.com/assets/colab-badge.svg\" alt=\"Open In Colab\"/></a>"
      ]
    },
    {
      "cell_type": "markdown",
      "source": [
        "**Example 01. Import Array**"
      ],
      "metadata": {
        "id": "pmZ2vnA3R9Ll"
      }
    },
    {
      "cell_type": "code",
      "execution_count": 2,
      "metadata": {
        "colab": {
          "base_uri": "https://localhost:8080/",
          "height": 35
        },
        "id": "hMC0BPcUR8aU",
        "outputId": "9438f43e-6e1e-4780-d891-6688bb773900"
      },
      "outputs": [
        {
          "output_type": "execute_result",
          "data": {
            "text/plain": [
              "'f'"
            ],
            "application/vnd.google.colaboratory.intrinsic+json": {
              "type": "string"
            }
          },
          "metadata": {},
          "execution_count": 2
        }
      ],
      "source": [
        "import array\n",
        "array.typecodes #get all typecodes\n",
        "a = array.array('i',[1,2,3,4,5,6]) #initializing array a\n",
        "b = array.array('f',[1.5,2.5,3.5,4.5,5.5,6.5]) #initializing array b\n",
        "a.typecode #getting the typecode of a\n",
        "b.typecode #getting the typecode of b"
      ]
    },
    {
      "cell_type": "markdown",
      "source": [
        "**Example 02. Array of Elements of Float/Decimal No**"
      ],
      "metadata": {
        "id": "LUnLlCxCV_R0"
      }
    },
    {
      "cell_type": "code",
      "source": [
        "from array import array #importing arrat from array module\n",
        "a= array('i'[4,5,6,7]) #initializing array\n",
        "a.insert(1,2) #inserting element: 2 at index: 1\n",
        "a #printing array\n",
        "array('i'[4,2,5,6,7])\n",
        "a.insert(-1,0) #insert element: 0 at index: -1\n",
        "a\n",
        "a.insert(10,-1) #insert element: -1 at index:10, this is out of range\n",
        "a\n",
        "array('i,'[4,2,5,6,0,7,-1])"
      ],
      "metadata": {
        "id": "lpYqAwWgVqLk"
      },
      "execution_count": null,
      "outputs": []
    },
    {
      "cell_type": "markdown",
      "source": [
        "**Example 03. Node Class**"
      ],
      "metadata": {
        "id": "DQhuUuOfWNZs"
      }
    },
    {
      "cell_type": "code",
      "source": [
        "#Node Class\n",
        "class Node:\n",
        "\n",
        "  #Function to initialize the node object\n",
        "  def __init__(self,data):\n",
        "    self.data = data #Assign data\n",
        "    self.next = None #initialize\n",
        "                  #next as null\n",
        "\n",
        "#Linked List class\n",
        "class Linkedlist:\n",
        "\n",
        "  #Function to initialize the Linked\n",
        "  #List object\n",
        "  def __init__(self):\n",
        "    self.head=None"
      ],
      "metadata": {
        "id": "NVETgKA2VrIU"
      },
      "execution_count": 13,
      "outputs": []
    },
    {
      "cell_type": "markdown",
      "source": [
        "**Example 04. A Sample Python Program**"
      ],
      "metadata": {
        "id": "Mg8syvM2Xp6N"
      }
    },
    {
      "cell_type": "code",
      "source": [
        "#Node Class\n",
        "class Node:\n",
        "\n",
        "    #Function to initialize the node object\n",
        "    def __init__(self,data):\n",
        "      self.data = data #Assign data\n",
        "      self.next = None #initialize next as null\n",
        "\n",
        "#Linked list class contains a node object class linkedlist:\n",
        "\n",
        "class LinkedList:\n",
        "  def __init__(self):\n",
        "    self.head = None\n",
        "\n",
        "if __name__=='_main__':\n",
        "  llist = Linkedlist()\n",
        "  llist.head = Node (1)\n",
        "  second = Node (2)\n",
        "  third = Node (3)\n",
        "  llist.head.next = second;\n",
        "  second.next = third;"
      ],
      "metadata": {
        "id": "NreMyYC3XwP0"
      },
      "execution_count": 35,
      "outputs": []
    }
  ]
}